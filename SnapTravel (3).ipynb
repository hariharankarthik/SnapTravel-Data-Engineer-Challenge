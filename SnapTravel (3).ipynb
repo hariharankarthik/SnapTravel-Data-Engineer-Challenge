{
  "nbformat": 4,
  "nbformat_minor": 5,
  "metadata": {
    "kernelspec": {
      "display_name": "Python 3",
      "language": "python",
      "name": "python3"
    },
    "language_info": {
      "codemirror_mode": {
        "name": "ipython",
        "version": 3
      },
      "file_extension": ".py",
      "mimetype": "text/x-python",
      "name": "python",
      "nbconvert_exporter": "python",
      "pygments_lexer": "ipython3",
      "version": "3.8.5"
    },
    "colab": {
      "name": "SnapTravel.ipynb",
      "provenance": []
    }
  },
  "cells": [
    {
      "cell_type": "markdown",
      "metadata": {
        "id": "confident-quest"
      },
      "source": [
        "# SnapTravel Case Study: Data Engineer Intern - Fall 2021 Term"
      ],
      "id": "confident-quest"
    },
    {
      "cell_type": "markdown",
      "metadata": {
        "id": "interior-underwear"
      },
      "source": [
        "1. FlightCodes column: Some values are null. Flight Codes are supposed to increase by 10 with each row so 1010 and 1030 will have 1020 in the middle. Fill in these missing numbers and make the column an integer column (instead of a float column)."
      ],
      "id": "interior-underwear"
    },
    {
      "cell_type": "code",
      "metadata": {
        "id": "finite-patrick"
      },
      "source": [
        "data = 'Airline Code;DelayTimes;FlightCodes;To_From\\nAir Canada (!);[21, 40];20015.0;WAterLoo_NEWYork\\n<Air France> (12);[];;Montreal_TORONTO\\n(Porter Airways. );[60, 22, 87];20035.0;CALgary_Ottawa\\n12. Air France;[78, 66];;Ottawa_VANcouvER\\n\"\"\".\\\\.Lufthansa.\\\\.\"\"\";[12, 33];20055.0;london_MONTreal\\n'"
      ],
      "id": "finite-patrick",
      "execution_count": null,
      "outputs": []
    },
    {
      "cell_type": "code",
      "metadata": {
        "id": "anticipated-minutes",
        "outputId": "a7828413-e0c8-4480-8a0e-01cf6581cd15"
      },
      "source": [
        "import re\n",
        "\n",
        "dataList = re.split('[;\\n]', data)\n",
        "print(dataList)"
      ],
      "id": "anticipated-minutes",
      "execution_count": null,
      "outputs": [
        {
          "output_type": "stream",
          "text": [
            "['Airline Code', 'DelayTimes', 'FlightCodes', 'To_From', 'Air Canada (!)', '[21, 40]', '20015.0', 'WAterLoo_NEWYork', '<Air France> (12)', '[]', '', 'Montreal_TORONTO', '(Porter Airways. )', '[60, 22, 87]', '20035.0', 'CALgary_Ottawa', '12. Air France', '[78, 66]', '', 'Ottawa_VANcouvER', '\"\"\".\\\\.Lufthansa.\\\\.\"\"\"', '[12, 33]', '20055.0', 'london_MONTreal', '']\n"
          ],
          "name": "stdout"
        }
      ]
    },
    {
      "cell_type": "code",
      "metadata": {
        "id": "forced-joining",
        "outputId": "ae47d421-d579-46da-c416-36614b939920"
      },
      "source": [
        "from collections import defaultdict\n",
        "\n",
        "d = defaultdict(list)\n",
        "for i in range(4, len(dataList)):\n",
        "    if i % 4 == 0 and dataList[i] != '':\n",
        "        d['Airline Code'].append(dataList[i])\n",
        "    elif i % 4 == 1:\n",
        "        d['DelayTimes'].append(dataList[i])\n",
        "    elif i % 4 == 2:\n",
        "        d['FlightCodes'].append(dataList[i])\n",
        "    elif i % 4 == 3:\n",
        "        d['To_From'].append(dataList[i])\n",
        "\n",
        "print(d)"
      ],
      "id": "forced-joining",
      "execution_count": null,
      "outputs": [
        {
          "output_type": "stream",
          "text": [
            "defaultdict(<class 'list'>, {'Airline Code': ['Air Canada (!)', '<Air France> (12)', '(Porter Airways. )', '12. Air France', '\"\"\".\\\\.Lufthansa.\\\\.\"\"\"'], 'DelayTimes': ['[21, 40]', '[]', '[60, 22, 87]', '[78, 66]', '[12, 33]'], 'FlightCodes': ['20015.0', '', '20035.0', '', '20055.0'], 'To_From': ['WAterLoo_NEWYork', 'Montreal_TORONTO', 'CALgary_Ottawa', 'Ottawa_VANcouvER', 'london_MONTreal']})\n"
          ],
          "name": "stdout"
        }
      ]
    },
    {
      "cell_type": "code",
      "metadata": {
        "id": "entire-desperate",
        "outputId": "bccce595-cd60-4446-ecfc-3990e5aa4aa0"
      },
      "source": [
        "import pandas as pd\n",
        "import numpy as np\n",
        "\n",
        "df = pd.DataFrame.from_dict(d)\n",
        "print(df.replace(r'^\\s*$', np.nan, regex=True))"
      ],
      "id": "entire-desperate",
      "execution_count": null,
      "outputs": [
        {
          "output_type": "stream",
          "text": [
            "            Airline Code    DelayTimes FlightCodes           To_From\n",
            "0         Air Canada (!)      [21, 40]     20015.0  WAterLoo_NEWYork\n",
            "1      <Air France> (12)            []         NaN  Montreal_TORONTO\n",
            "2     (Porter Airways. )  [60, 22, 87]     20035.0    CALgary_Ottawa\n",
            "3         12. Air France      [78, 66]         NaN  Ottawa_VANcouvER\n",
            "4  \"\"\".\\.Lufthansa.\\.\"\"\"      [12, 33]     20055.0   london_MONTreal\n"
          ],
          "name": "stdout"
        }
      ]
    },
    {
      "cell_type": "code",
      "metadata": {
        "id": "buried-technology",
        "outputId": "c5d1bff3-46bb-46b2-cc54-b060f452b83b"
      },
      "source": [
        "df['FlightCodes'] = pd.to_numeric(df['FlightCodes'])\n",
        "df = df.interpolate()\n",
        "convert_dict = {'FlightCodes': int}\n",
        "df = df.astype(convert_dict)\n",
        "print(df)"
      ],
      "id": "buried-technology",
      "execution_count": null,
      "outputs": [
        {
          "output_type": "stream",
          "text": [
            "            Airline Code    DelayTimes  FlightCodes           To_From\n",
            "0         Air Canada (!)      [21, 40]        20015  WAterLoo_NEWYork\n",
            "1      <Air France> (12)            []        20025  Montreal_TORONTO\n",
            "2     (Porter Airways. )  [60, 22, 87]        20035    CALgary_Ottawa\n",
            "3         12. Air France      [78, 66]        20045  Ottawa_VANcouvER\n",
            "4  \"\"\".\\.Lufthansa.\\.\"\"\"      [12, 33]        20055   london_MONTreal\n"
          ],
          "name": "stdout"
        }
      ]
    },
    {
      "cell_type": "markdown",
      "metadata": {
        "id": "graphic-scroll"
      },
      "source": [
        "2. To_From column: Should be split into two separate columns for better analysis! Split on '_' to create two new columns respectively. Also, the case of the column is not very readable, convert the column into capital case."
      ],
      "id": "graphic-scroll"
    },
    {
      "cell_type": "code",
      "metadata": {
        "id": "latter-steering",
        "outputId": "d562ae1c-ec1a-4eff-bf6f-65abdf845826"
      },
      "source": [
        "df[['To','From']] = pd.DataFrame(df.To_From.str.split('_').to_list(), index= df.index)\n",
        "df = df[['Airline Code', 'DelayTimes', 'FlightCodes', 'To', 'From']]\n",
        "print(df)"
      ],
      "id": "latter-steering",
      "execution_count": null,
      "outputs": [
        {
          "output_type": "stream",
          "text": [
            "            Airline Code    DelayTimes  FlightCodes        To       From\n",
            "0         Air Canada (!)      [21, 40]        20015  WAterLoo    NEWYork\n",
            "1      <Air France> (12)            []        20025  Montreal    TORONTO\n",
            "2     (Porter Airways. )  [60, 22, 87]        20035   CALgary     Ottawa\n",
            "3         12. Air France      [78, 66]        20045    Ottawa  VANcouvER\n",
            "4  \"\"\".\\.Lufthansa.\\.\"\"\"      [12, 33]        20055    london   MONTreal\n"
          ],
          "name": "stdout"
        }
      ]
    },
    {
      "cell_type": "code",
      "metadata": {
        "id": "purple-chester",
        "outputId": "2af1e35b-3893-49e6-d99c-135f7ea00d8a"
      },
      "source": [
        "df = df.convert_dtypes()\n",
        "df['To'] = df['To'].str.upper()\n",
        "df['From'] = df['From'].str.upper()\n",
        "print(df)"
      ],
      "id": "purple-chester",
      "execution_count": null,
      "outputs": [
        {
          "output_type": "stream",
          "text": [
            "            Airline Code    DelayTimes  FlightCodes        To       From\n",
            "0         Air Canada (!)      [21, 40]        20015  WATERLOO    NEWYORK\n",
            "1      <Air France> (12)            []        20025  MONTREAL    TORONTO\n",
            "2     (Porter Airways. )  [60, 22, 87]        20035   CALGARY     OTTAWA\n",
            "3         12. Air France      [78, 66]        20045    OTTAWA  VANCOUVER\n",
            "4  \"\"\".\\.Lufthansa.\\.\"\"\"      [12, 33]        20055    LONDON   MONTREAL\n"
          ],
          "name": "stdout"
        }
      ]
    },
    {
      "cell_type": "markdown",
      "metadata": {
        "id": "funny-music"
      },
      "source": [
        "3. Airline Code column: Clean the  Airline Codes to have no punctuation except spaces in the middle. E.g. '(Porter Airways. )' should become 'Porter Airways'."
      ],
      "id": "funny-music"
    },
    {
      "cell_type": "code",
      "metadata": {
        "id": "mysterious-context",
        "outputId": "102979e8-bafa-4061-c0a9-4adcdeb741ae"
      },
      "source": [
        "p = re.compile(r'[^\\w\\s]+')\n",
        "df['Airline Code'] = [p.sub('', x) for x in df['Airline Code'].tolist()]\n",
        "df = df[['AirlineCode', 'DelayTimes', 'FlightCodes', 'To', 'From']]\n",
        "print(df)"
      ],
      "id": "mysterious-context",
      "execution_count": null,
      "outputs": [
        {
          "output_type": "stream",
          "text": [
            "       AirlineCode    DelayTimes  FlightCodes        To       From\n",
            "0      Air Canada       [21, 40]        20015  WATERLOO    NEWYORK\n",
            "1    Air France 12            []        20025  MONTREAL    TORONTO\n",
            "2  Porter Airways   [60, 22, 87]        20035   CALGARY     OTTAWA\n",
            "3    12 Air France      [78, 66]        20045    OTTAWA  VANCOUVER\n",
            "4        Lufthansa      [12, 33]        20055    LONDON   MONTREAL\n"
          ],
          "name": "stdout"
        }
      ]
    },
    {
      "cell_type": "markdown",
      "metadata": {
        "id": "copyrighted-arbor"
      },
      "source": [
        "4. Write a mock SQL query on the above table to find all flights leaving from Waterloo"
      ],
      "id": "copyrighted-arbor"
    },
    {
      "cell_type": "code",
      "metadata": {
        "id": "referenced-organ"
      },
      "source": [
        "#Assuming table name corresponding to the final dataframe df is FlightInformation:"
      ],
      "id": "referenced-organ",
      "execution_count": null,
      "outputs": []
    },
    {
      "cell_type": "code",
      "metadata": {
        "id": "alert-enough"
      },
      "source": [
        "select AirlineCode from FlightInformation where FlightInformation.From = 'WATERLOO';"
      ],
      "id": "alert-enough",
      "execution_count": null,
      "outputs": []
    },
    {
      "cell_type": "code",
      "metadata": {
        "id": "exposed-simpson"
      },
      "source": [
        ""
      ],
      "id": "exposed-simpson",
      "execution_count": null,
      "outputs": []
    }
  ]
}